{
  "nbformat": 4,
  "nbformat_minor": 0,
  "metadata": {
    "colab": {
      "provenance": [],
      "toc_visible": true,
      "mount_file_id": "1fikQLJtR5E9QIew86PZvWfMOzMWeOKR9",
      "authorship_tag": "ABX9TyP5R7sLAp3bagC+htsd2UFL",
      "include_colab_link": true
    },
    "kernelspec": {
      "name": "python3",
      "display_name": "Python 3"
    },
    "language_info": {
      "name": "python"
    }
  },
  "cells": [
    {
      "cell_type": "markdown",
      "metadata": {
        "id": "view-in-github",
        "colab_type": "text"
      },
      "source": [
        "<a href=\"https://colab.research.google.com/github/maratial/Factura_Prueba/blob/master/Copia_de_Copia_de_Copia_de_Proyecto_Aurelion.ipynb\" target=\"_parent\"><img src=\"https://colab.research.google.com/assets/colab-badge.svg\" alt=\"Open In Colab\"/></a>"
      ]
    },
    {
      "cell_type": "markdown",
      "source": [
        "## DOCUMENTACION PROYECTO AURELION\n",
        "##1° SPRING\n",
        "---\n",
        "\n",
        "\n",
        "\n"
      ],
      "metadata": {
        "id": "uzpaR-NbrUna"
      }
    },
    {
      "cell_type": "markdown",
      "source": [
        "##**1- Tema, Problema y Solución**\n",
        "\n",
        "### **Tema:** Este proyecto simula la gestión de una tienda a partir de las bases de datos sinteticos.\n",
        "\n",
        "### **Problema y Solución:** El objetivo final sera determinar el medio de pago utilizado en función del valor del ticket de venta.\n",
        "\n",
        "\n"
      ],
      "metadata": {
        "id": "OAto9tKnL9Yl"
      }
    },
    {
      "cell_type": "markdown",
      "source": [
        "## **2- Data Set de Referencia: Fuente, Definición, Estructura, Tipos y Escala de Medición**\n",
        "\n",
        "### **Fuente:** Datos obtenidos de las bases de datos sinteticos provistos por Guayerd.\n",
        "\n",
        "###**Definición:** Bases de datos que representan a una tienda, con catalogo de productos, operaciones de ventas y datos de clientes.\n",
        "\n",
        "###**Estructuras, tipos y escalas:** Se presentan las bases de datos presentadas para el estudio\n",
        "\n",
        "### Producto (producto.csv)\n",
        "\n",
        "| Campo           | Tipo  | Escala    |\n",
        "| --------------- | ----- | --------- |\n",
        "| id_producto     | int   | Nominal   |\n",
        "| nombre_producto | str   | Nominal   |\n",
        "| categoria       | str   | Nominal   |\n",
        "| precio_unitario | int   | Razón     |\n",
        "\n",
        "\n",
        "### Clientes (clientes.csv)\n",
        "| Campo           | Tipo  | Escala    |\n",
        "| --------------- | ----- | --------- |\n",
        "| id_producto     | int   | Nominal   |\n",
        "| nombre_producto | str   | Nominal   |\n",
        "| categoria       | str   | Nominal   |\n",
        "| precio_unitario | int   | Razón     |\n",
        "\n",
        "\n",
        "\n",
        "### Ventas (ventas.csv)\n",
        "| Campo           | Tipo  | Escala    |\n",
        "| --------------- | ----- | --------- |\n",
        "| id_producto     | int   | Nominal   |\n",
        "| nombre_producto | str   | Nominal   |\n",
        "| categoria       | str   | Nominal   |\n",
        "| precio_unitario | int   | Razón     |\n",
        "\n",
        "\n",
        "### Detalle Ventas (detalle_ventas.csv)\n",
        "| Campo           | Tipo  | Escala    |\n",
        "| --------------- | ----- | --------- |\n",
        "| id_producto     | int   | Nominal   |\n",
        "| nombre_producto | str   | Nominal   |\n",
        "| categoria       | str   | Nominal   |\n",
        "| precio_unitario | int   | Razón     |\n"
      ],
      "metadata": {
        "id": "GJJeBxraMSIH"
      }
    },
    {
      "cell_type": "markdown",
      "source": [
        "## **3-Pasos, Pseudocodigo y Diagrama del programa**\n",
        "### En esta etapa, el programa funcionara como un **visor interactivo**, en el cual generaremos un menú programado en python para que el usuario pueda selecccionar una opción determinada según la información que desee obtener.\n",
        "\n",
        "\n",
        "\n"
      ],
      "metadata": {
        "id": "5pY11lGGFR61"
      }
    },
    {
      "cell_type": "markdown",
      "source": [
        "### **3.1-Contenidos Accesibles desde el menu**\n",
        "  #### **1. Mostrar Tema, Problema y Solución**\n",
        "  #### **2. Mostrar Dataset de Referencia**. Fuente y definición de los data sets\n",
        "  #### **3. Mostrar Estructura por tabla.** Campo, tipo y escala de las mismas.\n",
        "  #### **4. Mostrar Sujerencias y mejoras con Copilot.**\n",
        "  #### **0. Salir del Menu interactivo.**\n",
        "  "
      ],
      "metadata": {
        "id": "DSU--qh-Nese"
      }
    },
    {
      "cell_type": "markdown",
      "source": [
        "### **3.2-Pasos**\n",
        "#### a) Cargar en memoria los textos de esta documentación.\n",
        "#### b) Mostrar un menú numérico con las secciones enumeradas en 3.1\n",
        "#### c) En función de la opción elegida, imprimir el texto correspondiente en pantalla.\n",
        "#### d) Permitir volver al menú hasta que se elija la opción \"Salir del Menú interactivo\"."
      ],
      "metadata": {
        "id": "SDXsIkcjNrJT"
      }
    },
    {
      "cell_type": "markdown",
      "source": [
        "### **3.3-Pseudocodigo**\n",
        "\n",
        "####INICIO\n",
        "  Cargar Textos y documentación del programa\n",
        "   INICIO\\\n",
        "       MIENTRAS true\\\n",
        "       Mostrar opciones:\\\n",
        "           1-Temas, problemas y solución\\\n",
        "           2-Dataset de Referencia\\\n",
        "           3-Pasos, pseudocodigo y diagrama\\\n",
        "           4-Sugerencias y mejoras con Copilot\\\n",
        "           5-Salir del Menú Interactivo\\\n",
        "       Leer opción elegida\\\n",
        "        Si Opción == 0:\\\n",
        "                Salir del programa\\\n",
        "        Sino si opcion >=1 y opción <=4\\\n",
        "                Imprimir texto asociado\\\n",
        "             Sino\\\n",
        "                Mostrar \"Opción inválida\"\\       \n",
        "   FIN\n",
        "          \n",
        "             \n",
        "\n"
      ],
      "metadata": {
        "id": "I0Z-Z0g6N4eQ"
      }
    },
    {
      "cell_type": "markdown",
      "source": [],
      "metadata": {
        "id": "0TAnmeV7ivOd"
      }
    },
    {
      "cell_type": "markdown",
      "source": [
        "###**3.4-Diagrama de Flujo**\n",
        "##### El Archivo \"Flujograma de Programa Menu.png\""
      ],
      "metadata": {
        "id": "kp94zODheqal"
      }
    },
    {
      "cell_type": "markdown",
      "source": [
        "####**4-Sugerencias y mejoras con Copilot**\n",
        "\n",
        "####  \n",
        "\n",
        "*   Se creo un menú con 5 opciones que imprime el texto asociado a la opción elegida, o termina y se sale del ciclo.\n",
        "*   Se optimizo el pseudocodigo para que si se elige un valor distinto a los del menú se imprima la leyenda Opción Invalida.\n",
        "\n",
        "\n"
      ],
      "metadata": {
        "id": "FsWZvmpEmXkt"
      }
    },
    {
      "cell_type": "markdown",
      "source": [
        "##**5-Codificación en Python**"
      ],
      "metadata": {
        "id": "qTwBGiQXpsdG"
      }
    },
    {
      "cell_type": "code",
      "metadata": {
        "id": "5ec8f711"
      },
      "source": [
        "# Function to display the menu\n",
        "def display_menu():\n",
        "    print(\"\\n### 3.1-Contenidos Accesibles desde el menu\")\n",
        "    print(\"#### 1. Mostrar Tema, Problema y Solución\")\n",
        "    print(\"#### 2. Mostrar Dataset de Referencia. Fuente y definición de los data sets\")\n",
        "    print(\"#### 3. Mostrar Estructura por tabla. Campo, tipo y escala de las mismas.\")\n",
        "    print(\"#### 4. Mostrar Sujerencias y mejoras con Copilot.\")\n",
        "    print(\"#### 0. Salir del Menu interactivo.\")\n",
        "\n",
        "# Function to display content based on user choice\n",
        "def display_content(choice):\n",
        "    if choice == 1:\n",
        "        print(\"\\n##**1- Tema, Problema y Solución**\")\n",
        "        print(\"\\n### **Tema:** Este proyecto simula la gestión de una tienda a partir de las bases de datos sinteticos.\")\n",
        "        print(\"\\n### **Problema y Solución:** El objetivo final sera determinar el medio de pago utilizado en función del valor del ticket de venta.\")\n",
        "    elif choice == 2:\n",
        "        print(\"\\n## **2- Data Set de Referencia: Fuente, Definición, Estructura, Tipos y Escala de Medición**\")\n",
        "        print(\"\\n### **Fuente:** Datos obtenidos de las bases de datos sinteticos provistos por Guayerd.\")\n",
        "        print(\"\\n###**Definición:** Bases de datos que representan a una tienda, con catalogo de productos, operaciones de ventas y datos de clientes.\")\n",
        "        print(\"\\n###**Estructuras, tipos y escalas:** Se presentan las bases de datos presentadas para el estudio\")\n",
        "    elif choice == 3:\n",
        "        print(\"\\n### Producto (producto.csv)\")\n",
        "        print(\"| Campo           | Tipo  | Escala    |\")\n",
        "        print(\"| --------------- | ----- | --------- |\")\n",
        "        print(\"| id_producto     | int   | Nominal   |\")\n",
        "        print(\"| nombre_producto | str   | Nominal   |\")\n",
        "        print(\"| categoria       | str   | Nominal   |\")\n",
        "        print(\"| precio_unitario | int   | Razón     |\")\n",
        "        print(\"\\n### Clientes (clientes.csv)\")\n",
        "        print(\"| Campo           | Tipo  | Escala    |\")\n",
        "        print(\"| --------------- | ----- | --------- |\")\n",
        "        print(\"| id_producto     | int   | Nominal   |\")\n",
        "        print(\"| nombre_producto | str   | Nominal   |\")\n",
        "        print(\"| categoria       | str   | Nominal   |\")\n",
        "        print(\"| precio_unitario | int   | Razón     |\")\n",
        "        print(\"\\n### Ventas (ventas.csv)\")\n",
        "        print(\"| Campo           | Tipo  | Escala    |\")\n",
        "        print(\"| --------------- | ----- | --------- |\")\n",
        "        print(\"| id_producto     | int   | Nominal   |\")\n",
        "        print(\"| nombre_producto | str   | Nominal   |\")\n",
        "        print(\"| categoria       | str   | Nominal   |\")\n",
        "        print(\"| precio_unitario | int   | Razón     |\")\n",
        "        print(\"\\n### Detalle Ventas (detalle_ventas.csv)\")\n",
        "        print(\"| Campo           | Tipo  | Escala    |\")\n",
        "        print(\"| --------------- | ----- | --------- |\")\n",
        "        print(\"| id_producto     | int   | Nominal   |\")\n",
        "        print(\"| nombre_producto | str   | Nominal   |\")\n",
        "        print(\"| categoria       | str   | Nominal   |\")\n",
        "        print(\"| precio_unitario | int   | Razón     |\")\n",
        "\n",
        "    elif choice == 4:\n",
        "        print(\"\\n#### **4. Mostrar Sujerencias y mejoras con Copilot.**\")\n",
        "        print(\"\\n##Se creo un menú con 5 opciones que imprime el texto asociado a la opción elegida, o termina y se sale del ciclo\")\n",
        "        print(\"\\n##Se optimizo el pseudocodigo para que si se elige un valor distinto a los del menú se imprima la leyenda Opcion Invalida\")\n",
        "\n",
        "\n",
        "# Main program loop\n",
        "def main():\n",
        "    choice = -1\n",
        "    while choice != 0:\n",
        "        display_menu()\n",
        "        try:\n",
        "            choice = int(input(\"Enter your choice: \"))\n",
        "            if 0 <= choice <= 4:\n",
        "                if choice != 0:\n",
        "                    display_content(choice)\n",
        "            else:\n",
        "                print(\"Opción inválida.\")\n",
        "        except ValueError:\n",
        "            print(\"Opción inválida. Please enter a number.\")\n",
        "\n",
        "    print(\"Fin del programa.\")\n",
        "\n",
        "# Run the main program\n",
        "if __name__ == \"__main__\":\n",
        "    main()"
      ],
      "execution_count": null,
      "outputs": []
    }
  ]
}